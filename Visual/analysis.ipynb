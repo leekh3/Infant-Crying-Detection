{
 "cells": [
  {
   "cell_type": "code",
   "execution_count": null,
   "metadata": {},
   "outputs": [],
   "source": [
    "import librosa\n",
    "import os\n",
    "\n",
    "# Load the audio file\n",
    "audio_file = '/Users/leek13/Desktop/2021_whole.wav'\n",
    "y, sr = librosa.load(audio_file, sr=22050)\n",
    "\n",
    "# Divide the audio into multiple one-hour segments\n",
    "hour_len = 60*60*sr # length of one hour in samples\n",
    "for i in range(0, len(y), hour_len):\n",
    "    hour_audio = y[i:i+hour_len]\n",
    "    hour_filename = f'hour_{i//hour_len}.wav'\n",
    "    librosa.output.write_wav(hour_filename, hour_audio, sr)\n",
    "\n",
    "    # Generate a spectrogram for each hour\n",
    "    D = librosa.amplitude_to_db(librosa.stft(hour_audio), ref=np.max)\n",
    "    fig, ax = plt.subplots()\n",
    "    img = librosa.display.specshow(D, x_axis='time', y_axis='linear', ax=ax)\n",
    "    fig.colorbar(img, ax=ax, format='%+2.0f dB')\n",
    "    ax.set(title='Spectrogram')\n",
    "#     plt.savefig(f'spectrogram_{i//hour_len}.png')\n",
    "#     plt.close()\n",
    "    plt.show()\n",
    "    break\n"
   ]
  },
  {
   "cell_type": "code",
   "execution_count": null,
   "metadata": {},
   "outputs": [],
   "source": [
    "print(\"test\")"
   ]
  },
  {
   "cell_type": "code",
   "execution_count": 10,
   "metadata": {},
   "outputs": [],
   "source": [
    "def generate_spectrogram(audio, sr=22050, n_fft=2048, hop_length=512):\n",
    "    spectrogram = librosa.stft(audio, n_fft=n_fft, hop_length=hop_length)\n",
    "    log_spectrogram = librosa.amplitude_to_db(np.abs(spectrogram))\n",
    "    return log_spectrogram"
   ]
  },
  {
   "cell_type": "code",
   "execution_count": 11,
   "metadata": {},
   "outputs": [],
   "source": [
    "def find_infant_crying(log_spectrogram, threshold=-30, min_duration=1, sr=22050, hop_length=512):\n",
    "    cry_intervals = []\n",
    "    is_crying = False\n",
    "    start_frame = 0\n",
    "\n",
    "    for i, frame in enumerate(log_spectrogram.T):\n",
    "        if np.mean(frame) > threshold:\n",
    "            if not is_crying:\n",
    "                start_frame = i\n",
    "                is_crying = True\n",
    "        else:\n",
    "            if is_crying:\n",
    "                duration = (i - start_frame) * hop_length / sr\n",
    "                if duration >= min_duration:\n",
    "                    start_time = start_frame * hop_length / sr\n",
    "                    end_time = i * hop_length / sr\n",
    "                    cry_intervals.append((start_time, end_time))\n",
    "                is_crying = False\n",
    "\n",
    "    return cry_intervals"
   ]
  },
  {
   "cell_type": "code",
   "execution_count": null,
   "metadata": {},
   "outputs": [],
   "source": [
    "def divide_audio_into_hourly_segments(audio, sr=22050):\n",
    "    seconds_per_hour = 3600\n",
    "    samples_per_hour = seconds_per_hour * sr\n",
    "    num_segments = int(np.ceil(len(audio) / samples_per_hour))\n",
    "\n",
    "    segments = []\n",
    "    for i in range(num_segments):\n",
    "        start = i * samples_per_hour\n",
    "        end = (i + 1) * samples_per_hour\n",
    "        segment = audio[start:end]\n",
    "        segments.append(segment)\n",
    "    \n",
    "    return segments"
   ]
  },
  {
   "cell_type": "code",
   "execution_count": null,
   "metadata": {
    "pycharm": {
     "is_executing": true
    }
   },
   "outputs": [],
   "source": [
    " wav_file_path = '/Users/leek13/Desktop/2021_whole.wav'\n",
    "\n",
    "# Load the audio file\n",
    "audio = load_audio(wav_file_path)\n",
    "\n",
    "# Generate the spectrogram\n",
    "log_spectrogram = generate_spectrogram(audio)\n",
    "\n",
    "# Find potential infant crying segments\n",
    "cry_intervals = find_infant_crying(log_spectrogram)\n",
    "print(\"test\")"
   ]
  },
  {
   "cell_type": "code",
   "execution_count": null,
   "metadata": {},
   "outputs": [],
   "source": [
    "# Print the results\n",
    "if cry_intervals:\n",
    "    print(\"Potential infant crying segments found:\")\n",
    "    for i, interval in enumerate(cry_intervals, start=1):\n",
    "        start_time, end_time"
   ]
  },
  {
   "cell_type": "code",
   "execution_count": null,
   "metadata": {},
   "outputs": [],
   "source": []
  }
 ],
 "metadata": {
  "kernelspec": {
   "display_name": "Python 3 (ipykernel)",
   "language": "python",
   "name": "python3"
  },
  "language_info": {
   "codemirror_mode": {
    "name": "ipython",
    "version": 3
   },
   "file_extension": ".py",
   "mimetype": "text/x-python",
   "name": "python",
   "nbconvert_exporter": "python",
   "pygments_lexer": "ipython3",
   "version": "3.10.8"
  }
 },
 "nbformat": 4,
 "nbformat_minor": 1
}
