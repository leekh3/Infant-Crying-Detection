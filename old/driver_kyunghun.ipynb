{
 "cells": [
  {
   "cell_type": "code",
   "execution_count": 7,
   "outputs": [],
   "source": [
    "import glob\n",
    "import librosa.display"
   ],
   "metadata": {
    "collapsed": false
   }
  },
  {
   "cell_type": "code",
   "execution_count": 4,
   "outputs": [],
   "source": [
    "inDataFolder = '/Users/jimmy/data/'\n",
    "folderList = glob.glob(inDataFolder + '/*/',recursive = False)\n",
    "folderList.sort()"
   ],
   "metadata": {
    "collapsed": false
   }
  },
  {
   "cell_type": "code",
   "execution_count": 16,
   "outputs": [
    {
     "name": "stdout",
     "output_type": "stream",
     "text": [
      "3544\n"
     ]
    }
   ],
   "source": [
    "for inFolder in folderList:\n",
    "# inFolder = folderList[1]\n",
    "    inFiles = glob.glob(inFolder + '/*.wav')\n",
    "print(len(inFiles))"
   ],
   "metadata": {
    "collapsed": false
   }
  },
  {
   "cell_type": "code",
   "execution_count": 12,
   "outputs": [],
   "source": [
    "audio_filename = inFiles[0]\n",
    "y, sr = librosa.load(audio_filename)"
   ],
   "metadata": {
    "collapsed": false
   }
  },
  {
   "cell_type": "code",
   "execution_count": 14,
   "outputs": [
    {
     "name": "stdout",
     "output_type": "stream",
     "text": [
      "[ 0.02103408  0.05785739  0.07368168 ... -0.12685764 -0.2540832\n",
      " -0.24450628]\n",
      "(110250,)\n",
      "22050\n"
     ]
    }
   ],
   "source": [
    "print(y)\n",
    "print(y.shape)\n",
    "print(sr)"
   ],
   "metadata": {
    "collapsed": false
   }
  },
  {
   "cell_type": "code",
   "execution_count": null,
   "outputs": [],
   "source": [],
   "metadata": {
    "collapsed": false
   }
  }
 ],
 "metadata": {
  "kernelspec": {
   "display_name": "Python 3 (ipykernel)",
   "language": "python",
   "name": "python3"
  },
  "language_info": {
   "codemirror_mode": {
    "name": "ipython",
    "version": 3
   },
   "file_extension": ".py",
   "mimetype": "text/x-python",
   "name": "python",
   "nbconvert_exporter": "python",
   "pygments_lexer": "ipython3",
   "version": "3.9.12"
  }
 },
 "nbformat": 4,
 "nbformat_minor": 5
}
