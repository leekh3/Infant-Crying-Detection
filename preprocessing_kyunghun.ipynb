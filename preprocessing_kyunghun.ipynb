{
 "cells": [
  {
   "cell_type": "code",
   "execution_count": 1,
   "metadata": {},
   "outputs": [],
   "source": [
    "import librosa\n",
    "import numpy as np\n",
    "import librosa.display\n",
    "import csv\n",
    "from scipy.signal import savgol_filter\n",
    "from scipy import signal\n",
    "import matplotlib.pyplot as plt"
   ]
  },
  {
   "cell_type": "code",
   "execution_count": 2,
   "metadata": {},
   "outputs": [
    {
     "ename": "NameError",
     "evalue": "name 'XCXV' is not defined",
     "output_type": "error",
     "traceback": [
      "\u001b[0;31m---------------------------------------------------------------------------\u001b[0m",
      "\u001b[0;31mNameError\u001b[0m                                 Traceback (most recent call last)",
      "Cell \u001b[0;32mIn[2], line 1\u001b[0m\n\u001b[0;32m----> 1\u001b[0m \u001b[43mXCXV\u001b[49m\n",
      "\u001b[0;31mNameError\u001b[0m: name 'XCXV' is not defined"
     ]
    }
   ],
   "source": [
    "XCXV"
   ]
  },
  {
   "cell_type": "code",
   "execution_count": null,
   "metadata": {},
   "outputs": [],
   "source": [
    "##Hyperparameters\n",
    "n_fft = 1764\n",
    "hop_length = 882\n",
    "n_mels = 128\n",
    "\n",
    "##Set your filenames\n",
    "# audio_filename = 'P34_2.wav'\n",
    "# output_file = \"preprocessed.csv\"\n",
    "\n",
    "##Read audio file\n",
    "y, sr = librosa.load(audio_filename)\n",
    "duration = librosa.get_duration(y=y, sr=sr)"
   ]
  },
  {
   "cell_type": "code",
   "execution_count": null,
   "metadata": {},
   "outputs": [],
   "source": [
    "plt.plot(y)"
   ]
  },
  {
   "cell_type": "code",
   "execution_count": null,
   "metadata": {},
   "outputs": [],
   "source": [
    "sos = signal.butter(200, 6000, 'hp', fs=sr, output='sos')\n",
    "y  = signal.sosfilt(sos, y)\n",
    "# We'll need IPython.display's Audio widget\n",
    "from IPython.display import Audio\n",
    "Audio(data=y, rate=sr)\n",
    "# Save the filtered audio to a new WAV file\n",
    "import soundfile as sf\n",
    "sf.write('output_22_filtered.wav',y,22050)"
   ]
  },
  {
   "cell_type": "code",
   "execution_count": null,
   "metadata": {},
   "outputs": [],
   "source": [
    "x = y\n",
    "# x[abs(x)<0.01] = 0\n",
    "# x[abs(x)>0]=1"
   ]
  },
  {
   "cell_type": "code",
   "execution_count": null,
   "metadata": {},
   "outputs": [],
   "source": [
    "plt.plot(x)\n",
    "print(len(y)/120) # result: 22050"
   ]
  },
  {
   "cell_type": "code",
   "execution_count": null,
   "metadata": {},
   "outputs": [],
   "source": [
    "freq = int(len(y) / 120)\n",
    "# i = 1\n",
    "# firstIdx = i*freq\n",
    "# lastIdx = (i+1)*freq\n",
    "# winSum = sum(x[firstIdx:lastIdx])\n",
    "# print(winSum)\n",
    "times = []\n",
    "for i in range(120):\n",
    "# i = 0\n",
    "    firstIdx = i*freq\n",
    "    lastIdx = (i+1)*freq\n",
    "    winSum = -sum(x[firstIdx:lastIdx])\n",
    "    times.append(int(winSum))\n",
    "    # print(winSum)"
   ]
  },
  {
   "cell_type": "code",
   "execution_count": null,
   "metadata": {},
   "outputs": [],
   "source": [
    "print(times)\n"
   ]
  },
  {
   "cell_type": "code",
   "execution_count": null,
   "metadata": {},
   "outputs": [],
   "source": [
    "filted = savgol_filter(times, 3, 1)\n",
    "filted[filted<0]=-1\n",
    "filted[filted>0]=-1\n",
    "filted[filted==0]=0\n",
    "print(filted)"
   ]
  },
  {
   "cell_type": "markdown",
   "metadata": {},
   "source": []
  },
  {
   "cell_type": "code",
   "execution_count": null,
   "metadata": {},
   "outputs": [],
   "source": [
    "times = filted\n",
    "label = 1\n",
    "lastIdx = 0\n",
    "rs = []\n",
    "for i in range(len(times)):\n",
    "    if times[i]>=0 or i<lastIdx:\n",
    "        continue\n",
    "    \n",
    "    r = [i,i]\n",
    "    lastIdx = i\n",
    "    for j in range(i,len(times)):\n",
    "        if times[j]<0:\n",
    "            times[j]=label\n",
    "            r[-1] = j\n",
    "            lastIdx = j\n",
    "            if j == len(times)-1:\n",
    "                rs.append(r)\n",
    "        else:\n",
    "            label += 1\n",
    "            rs.append(r)\n",
    "            break\n"
   ]
  },
  {
   "cell_type": "code",
   "execution_count": 22,
   "metadata": {},
   "outputs": [
    {
     "name": "stdout",
     "output_type": "stream",
     "text": [
      "[0. 0. 0. 0. 0. 0. 0. 0. 0. 0. 0. 0. 0. 0. 0. 0. 0. 0. 0. 0. 0. 0. 0. 0.\n",
      " 0. 0. 0. 0. 0. 0. 0. 0. 0. 0. 0. 0. 0. 0. 0. 0. 0. 0. 0. 0. 0. 0. 0. 0.\n",
      " 0. 0. 0. 0. 0. 0. 0. 0. 0. 0. 0. 0. 0. 0. 0. 0. 0. 0. 0. 0. 0. 0. 0. 0.\n",
      " 0. 0. 0. 0. 0. 0. 0. 0. 0. 0. 0. 0. 0. 0. 0. 0. 0. 0. 0. 0. 0. 0. 0. 0.\n",
      " 0. 0. 0. 0. 0. 0. 0. 0. 0. 0. 0. 0. 0. 0. 0. 0. 0. 0. 0. 0. 0. 0. 0. 0.]\n",
      "[]\n"
     ]
    }
   ],
   "source": [
    "print(times)\n",
    "print(rs)"
   ]
  },
  {
   "cell_type": "code",
   "execution_count": null,
   "metadata": {},
   "outputs": [],
   "source": []
  },
  {
   "cell_type": "code",
   "execution_count": null,
   "metadata": {},
   "outputs": [],
   "source": []
  }
 ],
 "metadata": {
  "kernelspec": {
   "display_name": "Python 3 (ipykernel)",
   "language": "python",
   "name": "python3"
  },
  "language_info": {
   "codemirror_mode": {
    "name": "ipython",
    "version": 3
   },
   "file_extension": ".py",
   "mimetype": "text/x-python",
   "name": "python",
   "nbconvert_exporter": "python",
   "pygments_lexer": "ipython3",
   "version": "3.10.8"
  }
 },
 "nbformat": 4,
 "nbformat_minor": 1
}
